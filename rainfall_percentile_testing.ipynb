{
 "cells": [
  {
   "cell_type": "code",
   "execution_count": 1,
   "id": "99f943a3",
   "metadata": {},
   "outputs": [],
   "source": [
    "import icclim\n",
    "import xarray as xr"
   ]
  },
  {
   "cell_type": "code",
   "execution_count": 2,
   "id": "ed758cc3",
   "metadata": {},
   "outputs": [
    {
     "data": {
      "text/plain": [
       "'6.4.0'"
      ]
     },
     "execution_count": 2,
     "metadata": {},
     "output_type": "execute_result"
    }
   ],
   "source": [
    "icclim.__version__"
   ]
  },
  {
   "cell_type": "code",
   "execution_count": 11,
   "id": "a70416d9",
   "metadata": {},
   "outputs": [
    {
     "name": "stdout",
     "output_type": "stream",
     "text": [
      "<xarray.Dataset>\n",
      "Dimensions:    (time: 7305, bnds: 2, lat: 96, lon: 192)\n",
      "Coordinates:\n",
      "  * time       (time) datetime64[ns] 1850-01-01T12:00:00 ... 1869-12-31T12:00:00\n",
      "  * lat        (lat) float64 -88.57 -86.72 -84.86 -83.0 ... 84.86 86.72 88.57\n",
      "  * lon        (lon) float64 0.0 1.875 3.75 5.625 ... 352.5 354.4 356.2 358.1\n",
      "Dimensions without coordinates: bnds\n",
      "Data variables:\n",
      "    time_bnds  (time, bnds) datetime64[ns] ...\n",
      "    lat_bnds   (lat, bnds) float64 ...\n",
      "    lon_bnds   (lon, bnds) float64 ...\n",
      "    pr         (time, lat, lon) float32 ...\n",
      "Attributes: (12/47)\n",
      "    Conventions:            CF-1.7 CMIP-6.2\n",
      "    activity_id:            CMIP\n",
      "    branch_method:          standard\n",
      "    branch_time_in_child:   0.0\n",
      "    branch_time_in_parent:  0.0\n",
      "    contact:                cmip6-mpi-esm@dkrz.de\n",
      "    ...                     ...\n",
      "    title:                  MPI-ESM1-2-LR output prepared for CMIP6\n",
      "    variable_id:            pr\n",
      "    variant_label:          r1i1p1f1\n",
      "    license:                CMIP6 model data produced by MPI-M is licensed un...\n",
      "    cmor_version:           3.5.0\n",
      "    tracking_id:            hdl:21.14100/76d5f8e0-fa19-4e97-95dc-846250093b4d\n"
     ]
    }
   ],
   "source": [
    "hist_file = '/g/data/oi10/replicas/CMIP6/CMIP/MPI-M/MPI-ESM1-2-LR/historical/r1i1p1f1/day/pr/gn/v20190710/pr_day_MPI-ESM1-2-LR_historical_r1i1p1f1_gn_18500101-18691231.nc'\n",
    "ds_hist = xr.open_dataset(hist_file)\n",
    "print(ds_hist)"
   ]
  },
  {
   "cell_type": "code",
   "execution_count": 12,
   "id": "c1f734c1",
   "metadata": {},
   "outputs": [
    {
     "name": "stdout",
     "output_type": "stream",
     "text": [
      "<xarray.DataArray 'pr' (time: 7305, lat: 96, lon: 192)>\n",
      "[134645760 values with dtype=float32]\n",
      "Coordinates:\n",
      "  * time     (time) datetime64[ns] 1850-01-01T12:00:00 ... 1869-12-31T12:00:00\n",
      "  * lat      (lat) float64 -88.57 -86.72 -84.86 -83.0 ... 83.0 84.86 86.72 88.57\n",
      "  * lon      (lon) float64 0.0 1.875 3.75 5.625 7.5 ... 352.5 354.4 356.2 358.1\n",
      "Attributes:\n",
      "    standard_name:  precipitation_flux\n",
      "    long_name:      Precipitation\n",
      "    comment:        includes both liquid and solid phases\n",
      "    units:          kg m-2 s-1\n",
      "    original_name:  pr\n",
      "    cell_methods:   area: time: mean\n",
      "    cell_measures:  area: areacella\n",
      "    history:        2019-09-11T14:13:26Z altered by CMOR: replaced missing va...\n"
     ]
    }
   ],
   "source": [
    "print(ds_hist['pr'])"
   ]
  },
  {
   "cell_type": "code",
   "execution_count": 13,
   "id": "170a2d5d",
   "metadata": {},
   "outputs": [
    {
     "name": "stderr",
     "output_type": "stream",
     "text": [
      "2023-08-25 16:58:36,367 --- icclim 6.4.0\n",
      "2023-08-25 16:58:36,370 --- BEGIN EXECUTION\n",
      "2023-08-25 16:58:36,371 Processing: 0%\n",
      "/g/data/xv83/dbi599/miniconda3/envs/icclim/lib/python3.10/site-packages/xclim/core/utils.py:461: RuntimeWarning: All-NaN slice encountered\n",
      "  result = np.where(np.isnan(interpolation), np.nanmax(arr, axis=0), interpolation)\n",
      "/g/data/xv83/dbi599/miniconda3/envs/icclim/lib/python3.10/site-packages/xclim/core/cfchecks.py:41: UserWarning: Variable does not have a `cell_methods` attribute.\n",
      "  _check_cell_methods(\n",
      "/g/data/xv83/dbi599/miniconda3/envs/icclim/lib/python3.10/site-packages/xclim/core/cfchecks.py:45: UserWarning: Variable does not have a `standard_name` attribute.\n",
      "  check_valid(vardata, \"standard_name\", data[\"standard_name\"])\n",
      "2023-08-25 16:58:48,727 Processing: 100%\n",
      "2023-08-25 16:58:48,728 --- icclim 6.4.0\n",
      "2023-08-25 16:58:48,729 --- CPU SECS = 29.823    \n",
      "2023-08-25 16:58:48,729 --- END EXECUTION\n"
     ]
    }
   ],
   "source": [
    "ds_r75ptot = icclim.index(\n",
    "    index_name=\"R75pTOT\",\n",
    "    in_files=ds_hist,\n",
    "    var_name=\"pr\",\n",
    "    slice_mode=\"year\",\n",
    "#    out_file='R75pTOT.nc',\n",
    "    save_thresholds=True,\n",
    ")"
   ]
  },
  {
   "cell_type": "code",
   "execution_count": 14,
   "id": "0fff8194",
   "metadata": {},
   "outputs": [
    {
     "name": "stderr",
     "output_type": "stream",
     "text": [
      "/g/data/xv83/dbi599/miniconda3/envs/icclim/lib/python3.10/site-packages/dask/core.py:119: RuntimeWarning: invalid value encountered in divide\n",
      "  return func(*(_execute_task(a, cache) for a in args))\n",
      "/g/data/xv83/dbi599/miniconda3/envs/icclim/lib/python3.10/site-packages/dask/core.py:119: RuntimeWarning: divide by zero encountered in divide\n",
      "  return func(*(_execute_task(a, cache) for a in args))\n"
     ]
    },
    {
     "data": {
      "text/plain": [
       "array([[[nan, nan, inf, ..., nan, nan, nan],\n",
       "        [nan, nan, nan, ..., nan, inf, inf],\n",
       "        [nan, nan, nan, ..., nan, nan, nan],\n",
       "        ...,\n",
       "        [inf, inf, inf, ..., inf, inf, inf],\n",
       "        [inf, inf, inf, ..., inf, inf, inf],\n",
       "        [inf, inf, inf, ..., inf, inf, inf]],\n",
       "\n",
       "       [[nan, nan, nan, ..., nan, nan, nan],\n",
       "        [inf, inf, inf, ..., inf, inf, inf],\n",
       "        [inf, inf, inf, ..., inf, inf, inf],\n",
       "        ...,\n",
       "        [inf, inf, inf, ..., inf, inf, inf],\n",
       "        [inf, inf, inf, ..., inf, inf, inf],\n",
       "        [inf, inf, inf, ..., inf, inf, inf]],\n",
       "\n",
       "       [[inf, inf, inf, ..., inf, inf, inf],\n",
       "        [inf, inf, inf, ..., inf, inf, inf],\n",
       "        [nan, inf, inf, ..., inf, nan, nan],\n",
       "        ...,\n",
       "        [inf, inf, inf, ..., inf, inf, inf],\n",
       "        [inf, inf, inf, ..., inf, inf, inf],\n",
       "        [inf, inf, inf, ..., inf, inf, inf]],\n",
       "\n",
       "       ...,\n",
       "\n",
       "       [[nan, nan, nan, ..., nan, nan, nan],\n",
       "        [inf, inf, inf, ..., inf, inf, inf],\n",
       "        [inf, inf, inf, ..., inf, inf, inf],\n",
       "        ...,\n",
       "        [inf, inf, inf, ..., inf, inf, inf],\n",
       "        [inf, inf, inf, ..., inf, inf, inf],\n",
       "        [inf, inf, inf, ..., inf, inf, inf]],\n",
       "\n",
       "       [[nan, nan, nan, ..., nan, nan, nan],\n",
       "        [inf, inf, inf, ..., inf, inf, inf],\n",
       "        [inf, inf, inf, ..., inf, inf, inf],\n",
       "        ...,\n",
       "        [inf, inf, inf, ..., inf, inf, inf],\n",
       "        [inf, inf, inf, ..., inf, inf, inf],\n",
       "        [inf, inf, inf, ..., inf, inf, inf]],\n",
       "\n",
       "       [[nan, nan, nan, ..., nan, nan, nan],\n",
       "        [inf, inf, inf, ..., inf, inf, inf],\n",
       "        [inf, inf, inf, ..., inf, inf, inf],\n",
       "        ...,\n",
       "        [inf, inf, inf, ..., inf, inf, inf],\n",
       "        [inf, inf, inf, ..., inf, inf, inf],\n",
       "        [inf, inf, inf, ..., inf, inf, inf]]], dtype=float32)"
      ]
     },
     "execution_count": 14,
     "metadata": {},
     "output_type": "execute_result"
    }
   ],
   "source": [
    "ds_r75ptot['R75pTOT'].values"
   ]
  },
  {
   "cell_type": "code",
   "execution_count": null,
   "id": "f834aa58",
   "metadata": {},
   "outputs": [],
   "source": []
  }
 ],
 "metadata": {
  "kernelspec": {
   "display_name": "Python 3 (ipykernel)",
   "language": "python",
   "name": "python3"
  },
  "language_info": {
   "codemirror_mode": {
    "name": "ipython",
    "version": 3
   },
   "file_extension": ".py",
   "mimetype": "text/x-python",
   "name": "python",
   "nbconvert_exporter": "python",
   "pygments_lexer": "ipython3",
   "version": "3.10.8"
  }
 },
 "nbformat": 4,
 "nbformat_minor": 5
}
